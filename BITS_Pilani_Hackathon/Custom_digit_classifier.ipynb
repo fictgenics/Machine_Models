{
  "nbformat": 4,
  "nbformat_minor": 0,
  "metadata": {
    "colab": {
      "provenance": []
    },
    "kernelspec": {
      "name": "python3",
      "display_name": "Python 3"
    },
    "language_info": {
      "name": "python"
    }
  },
  "cells": [
    {
      "cell_type": "code",
      "execution_count": 1,
      "metadata": {
        "id": "AtjKevVsr-Wk"
      },
      "outputs": [],
      "source": [
        "import tensorflow  as tf\n",
        "from tensorflow import keras\n",
        "from tensorflow.keras import Sequential\n",
        "from tensorflow.keras.layers import Flatten, Dense, Dropout\n",
        "import numpy as np\n",
        "from sklearn.model_selection import train_test_split"
      ]
    },
    {
      "cell_type": "code",
      "source": [
        "from google.colab import drive\n",
        "drive.mount('/content/drive')"
      ],
      "metadata": {
        "colab": {
          "base_uri": "https://localhost:8080/"
        },
        "id": "Wp_Uflnkaa_A",
        "outputId": "ae925b0c-0f4f-44e7-91f0-724223bcd596"
      },
      "execution_count": 2,
      "outputs": [
        {
          "output_type": "stream",
          "name": "stdout",
          "text": [
            "Mounted at /content/drive\n"
          ]
        }
      ]
    },
    {
      "cell_type": "code",
      "source": [
        "X = np.load('/content/drive/MyDrive/BITS_PILANI_HACKATHON/dataset.npy')\n",
        "y = np.load('/content/drive/MyDrive/BITS_PILANI_HACKATHON/labels.npy')"
      ],
      "metadata": {
        "id": "od12mAYntAym"
      },
      "execution_count": 3,
      "outputs": []
    },
    {
      "cell_type": "code",
      "source": [
        "X.shape"
      ],
      "metadata": {
        "colab": {
          "base_uri": "https://localhost:8080/"
        },
        "id": "_hfVk1EvvG1l",
        "outputId": "0b8001d6-abb2-45f3-abad-1a0ed6ff577a"
      },
      "execution_count": 4,
      "outputs": [
        {
          "output_type": "execute_result",
          "data": {
            "text/plain": [
              "(59995, 28, 28)"
            ]
          },
          "metadata": {},
          "execution_count": 4
        }
      ]
    },
    {
      "cell_type": "code",
      "source": [
        "X_train, X_test, y_train, y_test = train_test_split(X, y, test_size=0.2, random_state=42)\n",
        "\n",
        "\n",
        "X_train = X_train / 255.0\n",
        "X_test = X_test / 255.0\n",
        "\n"
      ],
      "metadata": {
        "id": "3LFiE_T2u6gF"
      },
      "execution_count": 5,
      "outputs": []
    },
    {
      "cell_type": "code",
      "source": [
        "# Define the model architecture\n",
        "model = Sequential([\n",
        "    Flatten(input_shape=(28, 28)),\n",
        "    Dense(128, activation='relu'),\n",
        "    Dropout(0.2),\n",
        "    Dense(10)\n",
        "])"
      ],
      "metadata": {
        "id": "Kh5tYFR0vOwq"
      },
      "execution_count": 6,
      "outputs": []
    },
    {
      "cell_type": "code",
      "source": [
        "model.compile(optimizer='adam',\n",
        "              loss=tf.keras.losses.SparseCategoricalCrossentropy(from_logits=True),\n",
        "              metrics=['accuracy'])"
      ],
      "metadata": {
        "id": "FeDLN8ulvOzo"
      },
      "execution_count": 7,
      "outputs": []
    },
    {
      "cell_type": "code",
      "source": [
        "# Train the model\n",
        "model.fit(X_train, y_train, epochs=10, validation_data=(X_test, y_test))\n",
        "\n",
        "# Evaluate the model on the testing set\n",
        "test_loss, test_acc = model.evaluate(X_test, y_test, verbose=2)\n",
        "print('Test accuracy:', test_acc)\n"
      ],
      "metadata": {
        "colab": {
          "base_uri": "https://localhost:8080/"
        },
        "id": "ldZ19fQ3vO2e",
        "outputId": "150f33d5-9a8e-4d5c-928c-8978fdc596f4"
      },
      "execution_count": 8,
      "outputs": [
        {
          "output_type": "stream",
          "name": "stdout",
          "text": [
            "Epoch 1/10\n",
            "1500/1500 [==============================] - 4s 3ms/step - loss: 0.3237 - accuracy: 0.9059 - val_loss: 0.1670 - val_accuracy: 0.9518\n",
            "Epoch 2/10\n",
            "1500/1500 [==============================] - 4s 2ms/step - loss: 0.1587 - accuracy: 0.9536 - val_loss: 0.1217 - val_accuracy: 0.9638\n",
            "Epoch 3/10\n",
            "1500/1500 [==============================] - 5s 3ms/step - loss: 0.1186 - accuracy: 0.9642 - val_loss: 0.0958 - val_accuracy: 0.9712\n",
            "Epoch 4/10\n",
            "1500/1500 [==============================] - 4s 2ms/step - loss: 0.0949 - accuracy: 0.9710 - val_loss: 0.0887 - val_accuracy: 0.9734\n",
            "Epoch 5/10\n",
            "1500/1500 [==============================] - 4s 2ms/step - loss: 0.0792 - accuracy: 0.9748 - val_loss: 0.0790 - val_accuracy: 0.9761\n",
            "Epoch 6/10\n",
            "1500/1500 [==============================] - 5s 3ms/step - loss: 0.0694 - accuracy: 0.9781 - val_loss: 0.0802 - val_accuracy: 0.9742\n",
            "Epoch 7/10\n",
            "1500/1500 [==============================] - 4s 3ms/step - loss: 0.0607 - accuracy: 0.9804 - val_loss: 0.0739 - val_accuracy: 0.9761\n",
            "Epoch 8/10\n",
            "1500/1500 [==============================] - 4s 3ms/step - loss: 0.0544 - accuracy: 0.9826 - val_loss: 0.0784 - val_accuracy: 0.9751\n",
            "Epoch 9/10\n",
            "1500/1500 [==============================] - 5s 3ms/step - loss: 0.0496 - accuracy: 0.9835 - val_loss: 0.0722 - val_accuracy: 0.9778\n",
            "Epoch 10/10\n",
            "1500/1500 [==============================] - 4s 3ms/step - loss: 0.0455 - accuracy: 0.9854 - val_loss: 0.0746 - val_accuracy: 0.9771\n",
            "375/375 - 0s - loss: 0.0746 - accuracy: 0.9771 - 363ms/epoch - 969us/step\n",
            "Test accuracy: 0.9770814180374146\n"
          ]
        }
      ]
    },
    {
      "cell_type": "code",
      "source": [
        "import cv2\n",
        "\n",
        "\n",
        "image = cv2.imread('/content/drive/MyDrive/BITS_PILANI_HACKATHON/im-2.png', cv2.IMREAD_GRAYSCALE)\n",
        "image = cv2.resize(image, (28, 28))\n",
        "image = np.expand_dims(image, axis=0)\n",
        "image = image / 255.0\n",
        "\n",
        "image\n",
        "\n",
        "\n"
      ],
      "metadata": {
        "id": "VOidphFqvO5F"
      },
      "execution_count": null,
      "outputs": []
    },
    {
      "cell_type": "code",
      "source": [
        "predictions = model.predict(image)\n",
        "label = np.argmax(predictions)\n",
        "\n",
        "print('image is:', label)"
      ],
      "metadata": {
        "colab": {
          "base_uri": "https://localhost:8080/"
        },
        "id": "yU4RmYf2wQZP",
        "outputId": "8d51f173-6eda-4ead-d378-0ce66434de67"
      },
      "execution_count": 12,
      "outputs": [
        {
          "output_type": "stream",
          "name": "stdout",
          "text": [
            "1/1 [==============================] - 0s 14ms/step\n",
            "image is: 6\n"
          ]
        }
      ]
    },
    {
      "cell_type": "code",
      "source": [],
      "metadata": {
        "id": "MEnWhSXvwUMK"
      },
      "execution_count": null,
      "outputs": []
    }
  ]
}